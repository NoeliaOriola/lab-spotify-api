{
 "cells": [
  {
   "cell_type": "code",
   "execution_count": 25,
   "id": "38f06ffa-072c-4de4-93bb-fe9681caef18",
   "metadata": {},
   "outputs": [],
   "source": [
    "import sys\n",
    "import spotipy\n",
    "from spotipy.oauth2 import SpotifyClientCredentials\n",
    "\n",
    "# Spotify API credentials\n",
    "client_id = 'd7ecba8b249c437fa94175cbe74c5cad'\n",
    "client_secret = '3ebaecf089cf4e81af1bd8172ee05b85'\n",
    "\n",
    "# Initialize Spotipy with client credentials\n",
    "client_credentials_manager = SpotifyClientCredentials(client_id=client_id, client_secret=client_secret)\n",
    "sp = spotipy.Spotify(client_credentials_manager=client_credentials_manager)"
   ]
  },
  {
   "cell_type": "code",
   "execution_count": 26,
   "id": "c3b3c3ba-84cb-4dad-908b-39223bfa74b9",
   "metadata": {},
   "outputs": [],
   "source": [
    "from bs4 import BeautifulSoup\n",
    "import requests\n",
    "import pandas as pd"
   ]
  },
  {
   "cell_type": "code",
   "execution_count": 27,
   "id": "cd476b6c-a098-424e-a395-1745f96561c0",
   "metadata": {},
   "outputs": [],
   "source": [
    "hot_songs = pd.read_csv('hot_songs.csv')\n",
    "not_hot_songs = pd.read_csv('not_hot_songs.csv')"
   ]
  },
  {
   "cell_type": "code",
   "execution_count": 28,
   "id": "811b17b5-df96-44dd-badb-e4b8c5257108",
   "metadata": {},
   "outputs": [
    {
     "data": {
      "text/html": [
       "<div>\n",
       "<style scoped>\n",
       "    .dataframe tbody tr th:only-of-type {\n",
       "        vertical-align: middle;\n",
       "    }\n",
       "\n",
       "    .dataframe tbody tr th {\n",
       "        vertical-align: top;\n",
       "    }\n",
       "\n",
       "    .dataframe thead th {\n",
       "        text-align: right;\n",
       "    }\n",
       "</style>\n",
       "<table border=\"1\" class=\"dataframe\">\n",
       "  <thead>\n",
       "    <tr style=\"text-align: right;\">\n",
       "      <th></th>\n",
       "      <th>Title</th>\n",
       "      <th>Artists</th>\n",
       "    </tr>\n",
       "  </thead>\n",
       "  <tbody>\n",
       "    <tr>\n",
       "      <th>0</th>\n",
       "      <td>Rockin' Around The Christmas Tree</td>\n",
       "      <td>Brenda Lee</td>\n",
       "    </tr>\n",
       "    <tr>\n",
       "      <th>1</th>\n",
       "      <td>All I Want For Christmas Is You</td>\n",
       "      <td>Mariah Carey</td>\n",
       "    </tr>\n",
       "    <tr>\n",
       "      <th>2</th>\n",
       "      <td>Jingle Bell Rock</td>\n",
       "      <td>Bobby Helms</td>\n",
       "    </tr>\n",
       "    <tr>\n",
       "      <th>3</th>\n",
       "      <td>Last Christmas</td>\n",
       "      <td>Wham!</td>\n",
       "    </tr>\n",
       "    <tr>\n",
       "      <th>4</th>\n",
       "      <td>A Holly Jolly Christmas</td>\n",
       "      <td>Burl Ives</td>\n",
       "    </tr>\n",
       "  </tbody>\n",
       "</table>\n",
       "</div>"
      ],
      "text/plain": [
       "                               Title       Artists\n",
       "0  Rockin' Around The Christmas Tree    Brenda Lee\n",
       "1    All I Want For Christmas Is You  Mariah Carey\n",
       "2                   Jingle Bell Rock   Bobby Helms\n",
       "3                     Last Christmas         Wham!\n",
       "4            A Holly Jolly Christmas     Burl Ives"
      ]
     },
     "execution_count": 28,
     "metadata": {},
     "output_type": "execute_result"
    }
   ],
   "source": [
    "hot_songs.head()"
   ]
  },
  {
   "cell_type": "code",
   "execution_count": 29,
   "id": "78864ee0-8d31-4b0c-9751-780ac19a7eeb",
   "metadata": {},
   "outputs": [
    {
     "data": {
      "text/html": [
       "<div>\n",
       "<style scoped>\n",
       "    .dataframe tbody tr th:only-of-type {\n",
       "        vertical-align: middle;\n",
       "    }\n",
       "\n",
       "    .dataframe tbody tr th {\n",
       "        vertical-align: top;\n",
       "    }\n",
       "\n",
       "    .dataframe thead th {\n",
       "        text-align: right;\n",
       "    }\n",
       "</style>\n",
       "<table border=\"1\" class=\"dataframe\">\n",
       "  <thead>\n",
       "    <tr style=\"text-align: right;\">\n",
       "      <th></th>\n",
       "      <th>Artists</th>\n",
       "      <th>Title</th>\n",
       "    </tr>\n",
       "  </thead>\n",
       "  <tbody>\n",
       "    <tr>\n",
       "      <th>0</th>\n",
       "      <td>Sam Feldt</td>\n",
       "      <td>Post Malone</td>\n",
       "    </tr>\n",
       "    <tr>\n",
       "      <th>1</th>\n",
       "      <td>Quality Control</td>\n",
       "      <td>100 Racks (Offset feat. Playboi Carti)</td>\n",
       "    </tr>\n",
       "    <tr>\n",
       "      <th>2</th>\n",
       "      <td>Drake</td>\n",
       "      <td>God's Plan</td>\n",
       "    </tr>\n",
       "    <tr>\n",
       "      <th>3</th>\n",
       "      <td>Francis and the Lights</td>\n",
       "      <td>May I Have This Dance (Remix)</td>\n",
       "    </tr>\n",
       "    <tr>\n",
       "      <th>4</th>\n",
       "      <td>Future</td>\n",
       "      <td>Trapped In The Sun</td>\n",
       "    </tr>\n",
       "  </tbody>\n",
       "</table>\n",
       "</div>"
      ],
      "text/plain": [
       "                   Artists                                   Title\n",
       "0               Sam Feldt                              Post Malone\n",
       "1         Quality Control   100 Racks (Offset feat. Playboi Carti)\n",
       "2                   Drake                               God's Plan\n",
       "3  Francis and the Lights            May I Have This Dance (Remix)\n",
       "4                  Future                       Trapped In The Sun"
      ]
     },
     "execution_count": 29,
     "metadata": {},
     "output_type": "execute_result"
    }
   ],
   "source": [
    "not_hot_songs = not_hot_songs.drop(['level_0'], axis=1)\n",
    "not_hot_songs = not_hot_songs.drop(['index'], axis=1)\n",
    "not_hot_songs.head()"
   ]
  },
  {
   "cell_type": "code",
   "execution_count": 30,
   "id": "3fb84b11-cc6b-4a0f-8ea8-f3cfa2617219",
   "metadata": {},
   "outputs": [],
   "source": [
    "import pandas as pd\n",
    "import time\n",
    "import numpy as np"
   ]
  },
  {
   "cell_type": "code",
   "execution_count": 31,
   "id": "88642bd3-aaa2-48dc-8d45-7d7ebaca02aa",
   "metadata": {},
   "outputs": [],
   "source": [
    "def search_song(title, artist, limit):\n",
    "    sp = spotipy.Spotify(auth_manager=SpotifyClientCredentials(client_id=client_id,\n",
    "                                                           client_secret=client_secret))\n",
    "    try:\n",
    "        results = sp.search(q=f\"{title} {artist}\", type='track', limit=limit)\n",
    "        song_id = results['tracks']['items'][0]['id']\n",
    "        return song_id\n",
    "    except IndexError:\n",
    "        print(\"Song not found!\")\n",
    "        return \"\"\n",
    "\n",
    "def get_audio_features(list_of_song_ids):\n",
    "\n",
    "    sp = spotipy.Spotify(auth_manager=SpotifyClientCredentials(client_id=client_id,\n",
    "                                                           client_secret=client_secret))\n",
    "\n",
    "    audio_features_dict = {'id': [], 'danceability': [], 'energy': [],\n",
    "                           'key': [], 'loudness': [], 'mode': [],\n",
    "                           'speechiness': [], 'acousticness': [],\n",
    "                           'instrumentalness': [], 'liveness': [],\n",
    "                           'valence': [], 'tempo': []}\n",
    "  \n",
    "    chunks = np.array_split(list_of_song_ids, len(list_of_song_ids) // 50 + 1)\n",
    "\n",
    "    for chunk in chunks:\n",
    "        print(\"Collecting IDs for chunk...\")\n",
    "        time.sleep(20) \n",
    "        features = sp.audio_features(chunk)\n",
    "        for feature in features:\n",
    "            for key, value in feature.items():\n",
    "                if key in audio_features_dict:\n",
    "                    audio_features_dict[key].append(value)\n",
    "\n",
    "    audio_features_df = pd.DataFrame(audio_features_dict)\n",
    "    return audio_features_df\n",
    "\n",
    "def add_audio_features(df, audio_features_df):\n",
    "  \n",
    "    merged_df = pd.merge(df, audio_features_df, on='id', how='inner')\n",
    "    return merged_df"
   ]
  },
  {
   "cell_type": "code",
   "execution_count": null,
   "id": "3781ac38-9552-4378-8f01-ba1abea914d4",
   "metadata": {},
   "outputs": [
    {
     "name": "stdout",
     "output_type": "stream",
     "text": [
      "Collecting IDs for chunk...\n"
     ]
    }
   ],
   "source": [
    "#from functions import search_song, get_audio_features, add_audio_features\n",
    "\n",
    "list_of_ids_hot = []\n",
    "list_of_ids_not_hot = []\n",
    "\n",
    "for index, row in hot_songs.iterrows():\n",
    "    try:\n",
    "        song_id = search_song(row['Title'], row['Artists'], limit=1)\n",
    "        list_of_ids_hot.append(song_id)\n",
    "    except:\n",
    "        print(\"Error processing song:\", row['Title'], row['Artists'])\n",
    "        list_of_ids_hot.append(\"\")\n",
    "\n",
    "hot_songs['id'] = list_of_ids_hot\n",
    "\n",
    "list_of_ids_hot = hot_songs['id'].tolist()\n",
    "audio_features_hot = get_audio_features(list_of_ids_hot)\n",
    "\n",
    "hot_songs_feat = add_audio_features(hot_songs, audio_features_hot)"
   ]
  },
  {
   "cell_type": "code",
   "execution_count": null,
   "id": "53cda29f-ffd9-41ba-8d4b-ebef2780b36c",
   "metadata": {},
   "outputs": [],
   "source": [
    "audio_features_hot"
   ]
  },
  {
   "cell_type": "code",
   "execution_count": null,
   "id": "4d2b4c76-7ab8-4f4a-b79d-4b3f870405e0",
   "metadata": {},
   "outputs": [],
   "source": [
    "hot_songs_feat"
   ]
  },
  {
   "cell_type": "code",
   "execution_count": null,
   "id": "57eab7d5-aa42-4449-89a4-f74642db6ba9",
   "metadata": {},
   "outputs": [],
   "source": [
    "for index, row in not_hot_songs.iterrows():\n",
    "    try:\n",
    "        song_id = search_song(row['Title'], row['Artists'], limit=1)\n",
    "        list_of_ids_not_hot.append(song_id)\n",
    "    except:\n",
    "        print(\"Error processing song:\", row['Title'], row['Artists'])\n",
    "        list_of_ids_not_hot.append(\"\")\n",
    "\n",
    "not_hot_songs['id'] = list_of_ids_not_hot\n",
    "\n",
    "list_of_ids_not_hot = not_hot_songs['id'].tolist()\n",
    "audio_features_not_hot = get_audio_features(list_of_ids_not_hot)\n",
    "\n",
    "not_hot_songs_feat = add_audio_features(not_hot_songs, audio_features_not_hot)\n",
    "\n"
   ]
  },
  {
   "cell_type": "code",
   "execution_count": null,
   "id": "4d4f2dc7-0e66-47d6-901e-4d60317b11f4",
   "metadata": {},
   "outputs": [],
   "source": [
    "not_hot_songs_feat"
   ]
  },
  {
   "cell_type": "code",
   "execution_count": null,
   "id": "687b614e-ac53-4ae4-87a4-f7d08c8cb7bb",
   "metadata": {},
   "outputs": [],
   "source": [
    "not_hot_songs_feat.isna().sum()"
   ]
  },
  {
   "cell_type": "code",
   "execution_count": null,
   "id": "09c63a05-28df-4f8e-9e69-0f5f978c9229",
   "metadata": {},
   "outputs": [],
   "source": [
    "not_hot_songs_feat = not_hot_songs_feat.drop_duplicates(subset=['id'])"
   ]
  },
  {
   "cell_type": "code",
   "execution_count": null,
   "id": "11464cba-0d9f-45f0-922a-cafdaef493c1",
   "metadata": {},
   "outputs": [],
   "source": [
    "not_hot_songs_feat.to_csv('not_hot_songs_with_audio.csv', index=False)"
   ]
  },
  {
   "cell_type": "code",
   "execution_count": null,
   "id": "af78fcc8-e5e7-43fd-a06e-461fd306e45b",
   "metadata": {},
   "outputs": [],
   "source": [
    "hot_songs_feat.to_csv('hot_songs_with_audio.csv', index=False)"
   ]
  },
  {
   "cell_type": "code",
   "execution_count": null,
   "id": "0ee0d2ee",
   "metadata": {},
   "outputs": [],
   "source": []
  }
 ],
 "metadata": {
  "kernelspec": {
   "display_name": "Python 3 (ipykernel)",
   "language": "python",
   "name": "python3"
  },
  "language_info": {
   "codemirror_mode": {
    "name": "ipython",
    "version": 3
   },
   "file_extension": ".py",
   "mimetype": "text/x-python",
   "name": "python",
   "nbconvert_exporter": "python",
   "pygments_lexer": "ipython3",
   "version": "3.11.5"
  }
 },
 "nbformat": 4,
 "nbformat_minor": 5
}
